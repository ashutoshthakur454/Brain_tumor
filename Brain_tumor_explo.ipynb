{
 "cells": [
  {
   "cell_type": "code",
   "execution_count": 1,
   "id": "1586c1c0",
   "metadata": {},
   "outputs": [],
   "source": [
    "import numpy as np\n",
    "import cv2\n",
    "\n",
    "import PIL.Image as Image\n",
    "import os\n",
    "\n",
    "import matplotlib.pylab as plt\n",
    "\n",
    "import tensorflow as tf\n",
    "import tensorflow_hub as hub\n",
    "\n",
    "from tensorflow import keras\n",
    "from tensorflow.keras import layers\n",
    "from tensorflow.keras.models import Sequential"
   ]
  },
  {
   "cell_type": "code",
   "execution_count": 2,
   "id": "d407d2db",
   "metadata": {},
   "outputs": [],
   "source": [
    "data_dir=r\"D:\\D-downloads\\Brain Tumor Data Set\\Brain Tumor Data Set\""
   ]
  },
  {
   "cell_type": "code",
   "execution_count": 3,
   "id": "31f04065",
   "metadata": {},
   "outputs": [
    {
     "data": {
      "text/plain": [
       "WindowsPath('D:/D-downloads/Brain Tumor Data Set/Brain Tumor Data Set')"
      ]
     },
     "execution_count": 3,
     "metadata": {},
     "output_type": "execute_result"
    }
   ],
   "source": [
    "import pathlib\n",
    "data_dir = pathlib.Path(data_dir)\n",
    "data_dir"
   ]
  },
  {
   "cell_type": "code",
   "execution_count": 4,
   "id": "95686d68",
   "metadata": {},
   "outputs": [
    {
     "data": {
      "text/plain": [
       "(4506, 6, 2)"
      ]
     },
     "execution_count": 4,
     "metadata": {},
     "output_type": "execute_result"
    }
   ],
   "source": [
    "len(list(data_dir.glob('*/*.jpg'))),len(list(data_dir.glob('*/*.jpeg'))),len(list(data_dir.glob('*/*.png')))"
   ]
  },
  {
   "cell_type": "code",
   "execution_count": 5,
   "id": "50a4876a",
   "metadata": {},
   "outputs": [
    {
     "data": {
      "text/plain": [
       "0"
      ]
     },
     "execution_count": 5,
     "metadata": {},
     "output_type": "execute_result"
    }
   ],
   "source": [
    "tumor = list(data_dir.glob('Cancer/*'))\n",
    "len(tumor)"
   ]
  },
  {
   "cell_type": "code",
   "execution_count": 6,
   "id": "cae7eef5",
   "metadata": {},
   "outputs": [
    {
     "data": {
      "text/plain": [
       "[WindowsPath('D:/D-downloads/Brain Tumor Data Set/Brain Tumor Data Set/Healthy/Not Cancer  (994).jpg'),\n",
       " WindowsPath('D:/D-downloads/Brain Tumor Data Set/Brain Tumor Data Set/Healthy/Not Cancer  (995).jpg'),\n",
       " WindowsPath('D:/D-downloads/Brain Tumor Data Set/Brain Tumor Data Set/Healthy/Not Cancer  (996).jpg'),\n",
       " WindowsPath('D:/D-downloads/Brain Tumor Data Set/Brain Tumor Data Set/Healthy/Not Cancer  (997).jpg'),\n",
       " WindowsPath('D:/D-downloads/Brain Tumor Data Set/Brain Tumor Data Set/Healthy/Not Cancer  (998).jpg'),\n",
       " WindowsPath('D:/D-downloads/Brain Tumor Data Set/Brain Tumor Data Set/Healthy/Not Cancer  (999).jpg')]"
      ]
     },
     "execution_count": 6,
     "metadata": {},
     "output_type": "execute_result"
    }
   ],
   "source": [
    "full_list=list(data_dir.glob('*/*.jpg'))\n",
    "full_list[4500:]"
   ]
  },
  {
   "cell_type": "code",
   "execution_count": 7,
   "id": "abe4b9a8",
   "metadata": {},
   "outputs": [
    {
     "data": {
      "text/plain": [
       "pathlib.WindowsPath"
      ]
     },
     "execution_count": 7,
     "metadata": {},
     "output_type": "execute_result"
    }
   ],
   "source": [
    "type(full_list[0])"
   ]
  },
  {
   "cell_type": "code",
   "execution_count": 8,
   "id": "ed9eb057",
   "metadata": {},
   "outputs": [
    {
     "data": {
      "text/plain": [
       "('D:\\\\D-downloads\\\\Brain Tumor Data Set\\\\Brain Tumor Data Set\\\\Brain Tumor\\\\Cancer (1).jpg',\n",
       " 'D:\\\\D-downloads\\\\Brain Tumor Data Set\\\\Brain Tumor Data Set\\\\Healthy\\\\Not Cancer  (994).jpg')"
      ]
     },
     "execution_count": 8,
     "metadata": {},
     "output_type": "execute_result"
    }
   ],
   "source": [
    "str(full_list[0]),str(full_list[4500])"
   ]
  },
  {
   "cell_type": "code",
   "execution_count": 9,
   "id": "6b36a956",
   "metadata": {},
   "outputs": [],
   "source": [
    "import re"
   ]
  },
  {
   "cell_type": "code",
   "execution_count": 10,
   "id": "e451166a",
   "metadata": {},
   "outputs": [],
   "source": [
    "tumor=[]\n",
    "for paths in full_list:\n",
    "    paths=str(paths)\n",
    "    lis=(re.findall(r'D:\\\\D-downloads\\\\Brain Tumor Data Set\\\\Brain Tumor Data Set\\\\Brain Tumor\\\\Cancer[ )(0-9]*.[a-zA-Z]+',paths))\n",
    "    if len(lis)>0:\n",
    "        tumor.append(pathlib.Path(lis[0]))"
   ]
  },
  {
   "cell_type": "code",
   "execution_count": 11,
   "id": "b84dd413",
   "metadata": {},
   "outputs": [
    {
     "data": {
      "text/plain": [
       "2426"
      ]
     },
     "execution_count": 11,
     "metadata": {},
     "output_type": "execute_result"
    }
   ],
   "source": [
    "len(tumor)"
   ]
  },
  {
   "cell_type": "code",
   "execution_count": 12,
   "id": "001726eb",
   "metadata": {},
   "outputs": [],
   "source": [
    "healthy=[]\n",
    "for paths in full_list:\n",
    "    paths=str(paths)\n",
    "    lis=re.findall(r\"D:\\\\D-downloads\\\\Brain Tumor Data Set\\\\Brain Tumor Data Set\\\\Healthy\\\\Not Cancer[ )(0-9]*.[a-zA-Z]*\",paths)\n",
    "    if len(lis)>0:\n",
    "        healthy.append(pathlib.Path(lis[0]))\n"
   ]
  },
  {
   "cell_type": "code",
   "execution_count": 13,
   "id": "469d05f7",
   "metadata": {},
   "outputs": [
    {
     "data": {
      "text/plain": [
       "2080"
      ]
     },
     "execution_count": 13,
     "metadata": {},
     "output_type": "execute_result"
    }
   ],
   "source": [
    "len(healthy)"
   ]
  },
  {
   "cell_type": "code",
   "execution_count": 14,
   "id": "c5b002b9",
   "metadata": {},
   "outputs": [
    {
     "data": {
      "text/plain": [
       "[WindowsPath('D:/D-downloads/Brain Tumor Data Set/Brain Tumor Data Set/Brain Tumor/Cancer (1).jpg'),\n",
       " WindowsPath('D:/D-downloads/Brain Tumor Data Set/Brain Tumor Data Set/Brain Tumor/Cancer (10).jpg'),\n",
       " WindowsPath('D:/D-downloads/Brain Tumor Data Set/Brain Tumor Data Set/Brain Tumor/Cancer (100).jpg'),\n",
       " WindowsPath('D:/D-downloads/Brain Tumor Data Set/Brain Tumor Data Set/Brain Tumor/Cancer (1000).jpg'),\n",
       " WindowsPath('D:/D-downloads/Brain Tumor Data Set/Brain Tumor Data Set/Brain Tumor/Cancer (1001).jpg'),\n",
       " WindowsPath('D:/D-downloads/Brain Tumor Data Set/Brain Tumor Data Set/Brain Tumor/Cancer (1002).JPG'),\n",
       " WindowsPath('D:/D-downloads/Brain Tumor Data Set/Brain Tumor Data Set/Brain Tumor/Cancer (1003).jpg'),\n",
       " WindowsPath('D:/D-downloads/Brain Tumor Data Set/Brain Tumor Data Set/Brain Tumor/Cancer (1004).jpg'),\n",
       " WindowsPath('D:/D-downloads/Brain Tumor Data Set/Brain Tumor Data Set/Brain Tumor/Cancer (1005).jpg'),\n",
       " WindowsPath('D:/D-downloads/Brain Tumor Data Set/Brain Tumor Data Set/Brain Tumor/Cancer (1006).jpg')]"
      ]
     },
     "execution_count": 14,
     "metadata": {},
     "output_type": "execute_result"
    }
   ],
   "source": [
    "tumor[:10]"
   ]
  },
  {
   "cell_type": "code",
   "execution_count": 15,
   "id": "6d482fce",
   "metadata": {},
   "outputs": [
    {
     "data": {
      "text/plain": [
       "[WindowsPath('D:/D-downloads/Brain Tumor Data Set/Brain Tumor Data Set/Healthy/Not Cancer  (1).jpg'),\n",
       " WindowsPath('D:/D-downloads/Brain Tumor Data Set/Brain Tumor Data Set/Healthy/Not Cancer  (10).jpg'),\n",
       " WindowsPath('D:/D-downloads/Brain Tumor Data Set/Brain Tumor Data Set/Healthy/Not Cancer  (100).jpg'),\n",
       " WindowsPath('D:/D-downloads/Brain Tumor Data Set/Brain Tumor Data Set/Healthy/Not Cancer  (1000).jpg'),\n",
       " WindowsPath('D:/D-downloads/Brain Tumor Data Set/Brain Tumor Data Set/Healthy/Not Cancer  (1001).jpg'),\n",
       " WindowsPath('D:/D-downloads/Brain Tumor Data Set/Brain Tumor Data Set/Healthy/Not Cancer  (1002).jpg'),\n",
       " WindowsPath('D:/D-downloads/Brain Tumor Data Set/Brain Tumor Data Set/Healthy/Not Cancer  (1003).jpg'),\n",
       " WindowsPath('D:/D-downloads/Brain Tumor Data Set/Brain Tumor Data Set/Healthy/Not Cancer  (1004).jpg'),\n",
       " WindowsPath('D:/D-downloads/Brain Tumor Data Set/Brain Tumor Data Set/Healthy/Not Cancer  (1005).jpg'),\n",
       " WindowsPath('D:/D-downloads/Brain Tumor Data Set/Brain Tumor Data Set/Healthy/Not Cancer  (1006).jpg')]"
      ]
     },
     "execution_count": 15,
     "metadata": {},
     "output_type": "execute_result"
    }
   ],
   "source": [
    "healthy[:10]"
   ]
  },
  {
   "cell_type": "code",
   "execution_count": 16,
   "id": "7d19823e",
   "metadata": {},
   "outputs": [
    {
     "data": {
      "image/png": "[encoded data removed]",
      "text/plain": [
       "<PIL.JpegImagePlugin.JpegImageFile image mode=RGB size=512x512 at 0x1F0DD266640>"
      ]
     },
     "execution_count": 16,
     "metadata": {},
     "output_type": "execute_result"
    }
   ],
   "source": [
    "import PIL\n",
    "PIL.Image.open(str(tumor[0]))"
   ]
  },
  {
   "cell_type": "code",
   "execution_count": 17,
   "id": "90868255",
   "metadata": {},
   "outputs": [
    {
     "data": {
      "image/png": "[encoded data removed]",
      "text/plain": [
       "<PIL.JpegImagePlugin.JpegImageFile image mode=RGB size=350x350 at 0x1F0DD5274F0>"
      ]
     },
     "execution_count": 17,
     "metadata": {},
     "output_type": "execute_result"
    }
   ],
   "source": [
    "PIL.Image.open(str(healthy[0]))"
   ]
  },
  {
   "cell_type": "code",
   "execution_count": 18,
   "id": "0c7ef643",
   "metadata": {},
   "outputs": [],
   "source": [
    "tumor_images_dict = {\n",
    "    'tumor': tumor,\n",
    "    'healthy': healthy,\n",
    "}\n",
    "tumor_labels_dict = {\n",
    "    'tumor':0,\n",
    "    'healthy':1,\n",
    "}"
   ]
  },
  {
   "cell_type": "code",
   "execution_count": 20,
   "id": "841e5aa3",
   "metadata": {},
   "outputs": [
    {
     "data": {
      "text/plain": [
       "(366, 310, 3)"
      ]
     },
     "execution_count": 20,
     "metadata": {},
     "output_type": "execute_result"
    }
   ],
   "source": [
    "np.shape(PIL.Image.open(str(tumor[45])))"
   ]
  },
  {
   "cell_type": "code",
   "execution_count": 21,
   "id": "4856eb9f",
   "metadata": {},
   "outputs": [],
   "source": [
    "X,y= [],[]\n",
    "for if_cancer,images in tumor_images_dict.items():\n",
    "    for image in images:\n",
    "        img = cv2.imread(str(image))\n",
    "        resized_img = cv2.resize(img,(224,224))\n",
    "        X.append(resized_img)\n",
    "        y.append(tumor_labels_dict[if_cancer])"
   ]
  },
  {
   "cell_type": "code",
   "execution_count": 23,
   "id": "bee1ed0f",
   "metadata": {},
   "outputs": [],
   "source": [
    "X = np.array(X)\n",
    "y = np.array(y)"
   ]
  },
  {
   "cell_type": "code",
   "execution_count": 24,
   "id": "db31b04c",
   "metadata": {},
   "outputs": [
    {
     "data": {
      "text/plain": [
       "((4506, 224, 224, 3), (4506,))"
      ]
     },
     "execution_count": 24,
     "metadata": {},
     "output_type": "execute_result"
    }
   ],
   "source": [
    "X.shape,y.shape"
   ]
  },
  {
   "cell_type": "code",
   "execution_count": 25,
   "id": "503c805a",
   "metadata": {},
   "outputs": [],
   "source": [
    "from sklearn.model_selection import train_test_split\n",
    "X_train, X_test, y_train, y_test = train_test_split(X, y, random_state=0,stratify=y)"
   ]
  },
  {
   "cell_type": "code",
   "execution_count": 26,
   "id": "03422892",
   "metadata": {},
   "outputs": [
    {
     "data": {
      "text/plain": [
       "((3379, 224, 224, 3), (1127, 224, 224, 3), (3379,), (1127,))"
      ]
     },
     "execution_count": 26,
     "metadata": {},
     "output_type": "execute_result"
    }
   ],
   "source": [
    "X_train.shape, X_test.shape, y_train.shape, y_test.shape"
   ]
  },
  {
   "cell_type": "code",
   "execution_count": 27,
   "id": "43c5cb36",
   "metadata": {},
   "outputs": [],
   "source": [
    "X_train_scaled = X_train / 255\n",
    "X_test_scaled = X_test / 255"
   ]
  },
  {
   "cell_type": "markdown",
   "id": "964c069c",
   "metadata": {},
   "source": [
    "### Artificial Neural Network"
   ]
  },
  {
   "cell_type": "code",
   "execution_count": 40,
   "id": "2919531f",
   "metadata": {},
   "outputs": [
    {
     "name": "stdout",
     "output_type": "stream",
     "text": [
      "Epoch 1/5\n",
      "106/106 [==============================] - 198s 2s/step - loss: 744.1949 - accuracy: 0.5487\n",
      "Epoch 2/5\n",
      "106/106 [==============================] - 197s 2s/step - loss: 67.4142 - accuracy: 0.6366\n",
      "Epoch 3/5\n",
      "106/106 [==============================] - 187s 2s/step - loss: 22.9112 - accuracy: 0.7094\n",
      "Epoch 4/5\n",
      "106/106 [==============================] - 190s 2s/step - loss: 9.8634 - accuracy: 0.7594\n",
      "Epoch 5/5\n",
      "106/106 [==============================] - 189s 2s/step - loss: 5.1814 - accuracy: 0.8002\n"
     ]
    },
    {
     "data": {
      "text/plain": [
       "<keras.callbacks.History at 0x1f09b033b80>"
      ]
     },
     "execution_count": 40,
     "metadata": {},
     "output_type": "execute_result"
    }
   ],
   "source": [
    "ann = keras.Sequential([\n",
    "        keras.layers.Flatten(input_shape=(224,224,3)),\n",
    "        keras.layers.Dense(1000, activation='relu'),\n",
    "        keras.layers.Dense(750, activation='relu'),\n",
    "        keras.layers.Dense(500, activation='relu'),\n",
    "        keras.layers.Dense(100, activation='relu'),\n",
    "        keras.layers.Dense(25, activation='relu'),\n",
    "        keras.layers.Dense(10, activation='relu'),\n",
    "        keras.layers.Dense(2, activation='softmax')    \n",
    "    ])\n",
    "\n",
    "ann.compile(optimizer='adam',\n",
    "              loss='sparse_categorical_crossentropy',\n",
    "              metrics=['accuracy'])\n",
    "\n",
    "ann.fit(X_train, y_train, epochs=5)"
   ]
  },
  {
   "cell_type": "code",
   "execution_count": 42,
   "id": "852827fb",
   "metadata": {},
   "outputs": [
    {
     "name": "stdout",
     "output_type": "stream",
     "text": [
      "36/36 [==============================] - 4s 74ms/step - loss: 0.6245 - accuracy: 0.7808\n"
     ]
    },
    {
     "data": {
      "text/plain": [
       "[0.6245285868644714, 0.7808340787887573]"
      ]
     },
     "execution_count": 42,
     "metadata": {},
     "output_type": "execute_result"
    }
   ],
   "source": [
    "ann.evaluate(X_test_scaled, y_test)"
   ]
  },
  {
   "cell_type": "markdown",
   "id": "620de8a8",
   "metadata": {},
   "source": [
    "### CNN (Without dropout and augmentation)"
   ]
  },
  {
   "cell_type": "code",
   "execution_count": 44,
   "id": "9f469479",
   "metadata": {},
   "outputs": [
    {
     "name": "stdout",
     "output_type": "stream",
     "text": [
      "Epoch 1/12\n",
      "106/106 [==============================] - 144s 1s/step - loss: 0.4890 - accuracy: 0.7437\n",
      "Epoch 2/12\n",
      "106/106 [==============================] - 144s 1s/step - loss: 0.2877 - accuracy: 0.8766\n",
      "Epoch 3/12\n",
      "106/106 [==============================] - 141s 1s/step - loss: 0.1772 - accuracy: 0.9325\n",
      "Epoch 4/12\n",
      "106/106 [==============================] - 137s 1s/step - loss: 0.1122 - accuracy: 0.9589\n",
      "Epoch 5/12\n",
      "106/106 [==============================] - 138s 1s/step - loss: 0.0595 - accuracy: 0.9831\n",
      "Epoch 6/12\n",
      "106/106 [==============================] - 126s 1s/step - loss: 0.0514 - accuracy: 0.9825\n",
      "Epoch 7/12\n",
      "106/106 [==============================] - 141s 1s/step - loss: 0.0256 - accuracy: 0.9911\n",
      "Epoch 8/12\n",
      "106/106 [==============================] - 156s 1s/step - loss: 0.0079 - accuracy: 0.9979\n",
      "Epoch 9/12\n",
      "106/106 [==============================] - 154s 1s/step - loss: 0.0239 - accuracy: 0.9923\n",
      "Epoch 10/12\n",
      "106/106 [==============================] - 143s 1s/step - loss: 0.0317 - accuracy: 0.9888\n",
      "Epoch 11/12\n",
      "106/106 [==============================] - 149s 1s/step - loss: 0.0394 - accuracy: 0.9861\n",
      "Epoch 12/12\n",
      "106/106 [==============================] - 138s 1s/step - loss: 0.0146 - accuracy: 0.9956\n"
     ]
    },
    {
     "data": {
      "text/plain": [
       "<keras.callbacks.History at 0x1f09c4b1d00>"
      ]
     },
     "execution_count": 44,
     "metadata": {},
     "output_type": "execute_result"
    }
   ],
   "source": [
    "num_classes = 2\n",
    "\n",
    "cnn1 = Sequential([\n",
    "  layers.Conv2D(48, 3, padding='same', activation='relu'),\n",
    "  layers.MaxPooling2D(),\n",
    "  layers.Conv2D(64, 3, padding='same', activation='relu'),\n",
    "  layers.MaxPooling2D(),\n",
    "  layers.Conv2D(32, 3, padding='same', activation='relu'),\n",
    "  layers.MaxPooling2D(),\n",
    "  layers.Conv2D(16, 3, padding='same', activation='relu'),\n",
    "  layers.MaxPooling2D(),\n",
    "  layers.Flatten(),\n",
    "  layers.Dense(128, activation='relu'),\n",
    "  layers.Dense(64, activation='relu'),\n",
    "  layers.Dense(num_classes)\n",
    "])\n",
    "\n",
    "cnn1.compile(optimizer='adam',\n",
    "              loss=tf.keras.losses.SparseCategoricalCrossentropy(from_logits=True),\n",
    "              metrics=['accuracy'])\n",
    "              \n",
    "cnn1.fit(X_train_scaled, y_train, epochs=12)  "
   ]
  },
  {
   "cell_type": "code",
   "execution_count": 45,
   "id": "ebd78462",
   "metadata": {},
   "outputs": [
    {
     "name": "stdout",
     "output_type": "stream",
     "text": [
      "36/36 [==============================] - 11s 276ms/step - loss: 0.0817 - accuracy: 0.9778\n"
     ]
    },
    {
     "data": {
      "text/plain": [
       "[0.08172275125980377, 0.9778172373771667]"
      ]
     },
     "execution_count": 45,
     "metadata": {},
     "output_type": "execute_result"
    }
   ],
   "source": [
    "cnn1.evaluate(X_test_scaled,y_test)"
   ]
  },
  {
   "cell_type": "markdown",
   "id": "3ce7d894",
   "metadata": {},
   "source": [
    "### CNN with dropout and augmentation"
   ]
  },
  {
   "cell_type": "code",
   "execution_count": 46,
   "id": "b0b67feb",
   "metadata": {},
   "outputs": [
    {
     "name": "stdout",
     "output_type": "stream",
     "text": [
      "WARNING:tensorflow:Using a while_loop for converting RngReadAndSkip cause there is no registered converter for this op.\n"
     ]
    },
    {
     "name": "stderr",
     "output_type": "stream",
     "text": [
      "WARNING:tensorflow:Using a while_loop for converting RngReadAndSkip cause there is no registered converter for this op.\n"
     ]
    },
    {
     "name": "stdout",
     "output_type": "stream",
     "text": [
      "WARNING:tensorflow:Using a while_loop for converting Bitcast cause there is no registered converter for this op.\n"
     ]
    },
    {
     "name": "stderr",
     "output_type": "stream",
     "text": [
      "WARNING:tensorflow:Using a while_loop for converting Bitcast cause there is no registered converter for this op.\n"
     ]
    },
    {
     "name": "stdout",
     "output_type": "stream",
     "text": [
      "WARNING:tensorflow:Using a while_loop for converting Bitcast cause there is no registered converter for this op.\n"
     ]
    },
    {
     "name": "stderr",
     "output_type": "stream",
     "text": [
      "WARNING:tensorflow:Using a while_loop for converting Bitcast cause there is no registered converter for this op.\n"
     ]
    },
    {
     "name": "stdout",
     "output_type": "stream",
     "text": [
      "WARNING:tensorflow:Using a while_loop for converting StatelessRandomUniformV2 cause there is no registered converter for this op.\n"
     ]
    },
    {
     "name": "stderr",
     "output_type": "stream",
     "text": [
      "WARNING:tensorflow:Using a while_loop for converting StatelessRandomUniformV2 cause there is no registered converter for this op.\n"
     ]
    },
    {
     "name": "stdout",
     "output_type": "stream",
     "text": [
      "WARNING:tensorflow:Using a while_loop for converting ImageProjectiveTransformV3 cause there is no registered converter for this op.\n"
     ]
    },
    {
     "name": "stderr",
     "output_type": "stream",
     "text": [
      "WARNING:tensorflow:Using a while_loop for converting ImageProjectiveTransformV3 cause there is no registered converter for this op.\n"
     ]
    },
    {
     "name": "stdout",
     "output_type": "stream",
     "text": [
      "WARNING:tensorflow:Using a while_loop for converting RngReadAndSkip cause there is no registered converter for this op.\n"
     ]
    },
    {
     "name": "stderr",
     "output_type": "stream",
     "text": [
      "WARNING:tensorflow:Using a while_loop for converting RngReadAndSkip cause there is no registered converter for this op.\n"
     ]
    },
    {
     "name": "stdout",
     "output_type": "stream",
     "text": [
      "WARNING:tensorflow:Using a while_loop for converting Bitcast cause there is no registered converter for this op.\n"
     ]
    },
    {
     "name": "stderr",
     "output_type": "stream",
     "text": [
      "WARNING:tensorflow:Using a while_loop for converting Bitcast cause there is no registered converter for this op.\n"
     ]
    },
    {
     "name": "stdout",
     "output_type": "stream",
     "text": [
      "WARNING:tensorflow:Using a while_loop for converting Bitcast cause there is no registered converter for this op.\n"
     ]
    },
    {
     "name": "stderr",
     "output_type": "stream",
     "text": [
      "WARNING:tensorflow:Using a while_loop for converting Bitcast cause there is no registered converter for this op.\n"
     ]
    },
    {
     "name": "stdout",
     "output_type": "stream",
     "text": [
      "WARNING:tensorflow:Using a while_loop for converting StatelessRandomUniformV2 cause there is no registered converter for this op.\n"
     ]
    },
    {
     "name": "stderr",
     "output_type": "stream",
     "text": [
      "WARNING:tensorflow:Using a while_loop for converting StatelessRandomUniformV2 cause there is no registered converter for this op.\n"
     ]
    },
    {
     "name": "stdout",
     "output_type": "stream",
     "text": [
      "WARNING:tensorflow:Using a while_loop for converting ImageProjectiveTransformV3 cause there is no registered converter for this op.\n"
     ]
    },
    {
     "name": "stderr",
     "output_type": "stream",
     "text": [
      "WARNING:tensorflow:Using a while_loop for converting ImageProjectiveTransformV3 cause there is no registered converter for this op.\n"
     ]
    }
   ],
   "source": [
    "data_augmentation = keras.Sequential(\n",
    "  [\n",
    "    layers.experimental.preprocessing.RandomFlip(\"horizontal\", \n",
    "                                                 input_shape=(224, \n",
    "                                                              224,\n",
    "                                                              3)),\n",
    "    layers.experimental.preprocessing.RandomRotation(0.1),\n",
    "    layers.experimental.preprocessing.RandomZoom(0.1),\n",
    "  ]\n",
    ")"
   ]
  },
  {
   "cell_type": "code",
   "execution_count": 52,
   "id": "f642fa53",
   "metadata": {},
   "outputs": [
    {
     "name": "stdout",
     "output_type": "stream",
     "text": [
      "WARNING:tensorflow:Using a while_loop for converting RngReadAndSkip cause there is no registered converter for this op.\n"
     ]
    },
    {
     "name": "stderr",
     "output_type": "stream",
     "text": [
      "WARNING:tensorflow:Using a while_loop for converting RngReadAndSkip cause there is no registered converter for this op.\n"
     ]
    },
    {
     "name": "stdout",
     "output_type": "stream",
     "text": [
      "WARNING:tensorflow:Using a while_loop for converting Bitcast cause there is no registered converter for this op.\n"
     ]
    },
    {
     "name": "stderr",
     "output_type": "stream",
     "text": [
      "WARNING:tensorflow:Using a while_loop for converting Bitcast cause there is no registered converter for this op.\n"
     ]
    },
    {
     "name": "stdout",
     "output_type": "stream",
     "text": [
      "WARNING:tensorflow:Using a while_loop for converting Bitcast cause there is no registered converter for this op.\n"
     ]
    },
    {
     "name": "stderr",
     "output_type": "stream",
     "text": [
      "WARNING:tensorflow:Using a while_loop for converting Bitcast cause there is no registered converter for this op.\n"
     ]
    },
    {
     "name": "stdout",
     "output_type": "stream",
     "text": [
      "WARNING:tensorflow:Using a while_loop for converting StatelessRandomUniformV2 cause there is no registered converter for this op.\n"
     ]
    },
    {
     "name": "stderr",
     "output_type": "stream",
     "text": [
      "WARNING:tensorflow:Using a while_loop for converting StatelessRandomUniformV2 cause there is no registered converter for this op.\n"
     ]
    },
    {
     "name": "stdout",
     "output_type": "stream",
     "text": [
      "WARNING:tensorflow:Using a while_loop for converting ImageProjectiveTransformV3 cause there is no registered converter for this op.\n"
     ]
    },
    {
     "name": "stderr",
     "output_type": "stream",
     "text": [
      "WARNING:tensorflow:Using a while_loop for converting ImageProjectiveTransformV3 cause there is no registered converter for this op.\n"
     ]
    },
    {
     "name": "stdout",
     "output_type": "stream",
     "text": [
      "WARNING:tensorflow:Using a while_loop for converting RngReadAndSkip cause there is no registered converter for this op.\n"
     ]
    },
    {
     "name": "stderr",
     "output_type": "stream",
     "text": [
      "WARNING:tensorflow:Using a while_loop for converting RngReadAndSkip cause there is no registered converter for this op.\n"
     ]
    },
    {
     "name": "stdout",
     "output_type": "stream",
     "text": [
      "WARNING:tensorflow:Using a while_loop for converting Bitcast cause there is no registered converter for this op.\n"
     ]
    },
    {
     "name": "stderr",
     "output_type": "stream",
     "text": [
      "WARNING:tensorflow:Using a while_loop for converting Bitcast cause there is no registered converter for this op.\n"
     ]
    },
    {
     "name": "stdout",
     "output_type": "stream",
     "text": [
      "WARNING:tensorflow:Using a while_loop for converting Bitcast cause there is no registered converter for this op.\n"
     ]
    },
    {
     "name": "stderr",
     "output_type": "stream",
     "text": [
      "WARNING:tensorflow:Using a while_loop for converting Bitcast cause there is no registered converter for this op.\n"
     ]
    },
    {
     "name": "stdout",
     "output_type": "stream",
     "text": [
      "WARNING:tensorflow:Using a while_loop for converting StatelessRandomUniformV2 cause there is no registered converter for this op.\n"
     ]
    },
    {
     "name": "stderr",
     "output_type": "stream",
     "text": [
      "WARNING:tensorflow:Using a while_loop for converting StatelessRandomUniformV2 cause there is no registered converter for this op.\n"
     ]
    },
    {
     "name": "stdout",
     "output_type": "stream",
     "text": [
      "WARNING:tensorflow:Using a while_loop for converting ImageProjectiveTransformV3 cause there is no registered converter for this op.\n"
     ]
    },
    {
     "name": "stderr",
     "output_type": "stream",
     "text": [
      "WARNING:tensorflow:Using a while_loop for converting ImageProjectiveTransformV3 cause there is no registered converter for this op.\n"
     ]
    },
    {
     "name": "stdout",
     "output_type": "stream",
     "text": [
      "Epoch 1/35\n",
      "WARNING:tensorflow:Using a while_loop for converting RngReadAndSkip cause there is no registered converter for this op.\n"
     ]
    },
    {
     "name": "stderr",
     "output_type": "stream",
     "text": [
      "WARNING:tensorflow:Using a while_loop for converting RngReadAndSkip cause there is no registered converter for this op.\n"
     ]
    },
    {
     "name": "stdout",
     "output_type": "stream",
     "text": [
      "WARNING:tensorflow:Using a while_loop for converting Bitcast cause there is no registered converter for this op.\n"
     ]
    },
    {
     "name": "stderr",
     "output_type": "stream",
     "text": [
      "WARNING:tensorflow:Using a while_loop for converting Bitcast cause there is no registered converter for this op.\n"
     ]
    },
    {
     "name": "stdout",
     "output_type": "stream",
     "text": [
      "WARNING:tensorflow:Using a while_loop for converting Bitcast cause there is no registered converter for this op.\n"
     ]
    },
    {
     "name": "stderr",
     "output_type": "stream",
     "text": [
      "WARNING:tensorflow:Using a while_loop for converting Bitcast cause there is no registered converter for this op.\n"
     ]
    },
    {
     "name": "stdout",
     "output_type": "stream",
     "text": [
      "WARNING:tensorflow:Using a while_loop for converting StatelessRandomUniformV2 cause there is no registered converter for this op.\n"
     ]
    },
    {
     "name": "stderr",
     "output_type": "stream",
     "text": [
      "WARNING:tensorflow:Using a while_loop for converting StatelessRandomUniformV2 cause there is no registered converter for this op.\n"
     ]
    },
    {
     "name": "stdout",
     "output_type": "stream",
     "text": [
      "WARNING:tensorflow:Using a while_loop for converting ImageProjectiveTransformV3 cause there is no registered converter for this op.\n"
     ]
    },
    {
     "name": "stderr",
     "output_type": "stream",
     "text": [
      "WARNING:tensorflow:Using a while_loop for converting ImageProjectiveTransformV3 cause there is no registered converter for this op.\n"
     ]
    },
    {
     "name": "stdout",
     "output_type": "stream",
     "text": [
      "WARNING:tensorflow:Using a while_loop for converting RngReadAndSkip cause there is no registered converter for this op.\n"
     ]
    },
    {
     "name": "stderr",
     "output_type": "stream",
     "text": [
      "WARNING:tensorflow:Using a while_loop for converting RngReadAndSkip cause there is no registered converter for this op.\n"
     ]
    },
    {
     "name": "stdout",
     "output_type": "stream",
     "text": [
      "WARNING:tensorflow:Using a while_loop for converting Bitcast cause there is no registered converter for this op.\n"
     ]
    },
    {
     "name": "stderr",
     "output_type": "stream",
     "text": [
      "WARNING:tensorflow:Using a while_loop for converting Bitcast cause there is no registered converter for this op.\n"
     ]
    },
    {
     "name": "stdout",
     "output_type": "stream",
     "text": [
      "WARNING:tensorflow:Using a while_loop for converting Bitcast cause there is no registered converter for this op.\n"
     ]
    },
    {
     "name": "stderr",
     "output_type": "stream",
     "text": [
      "WARNING:tensorflow:Using a while_loop for converting Bitcast cause there is no registered converter for this op.\n"
     ]
    },
    {
     "name": "stdout",
     "output_type": "stream",
     "text": [
      "WARNING:tensorflow:Using a while_loop for converting StatelessRandomUniformV2 cause there is no registered converter for this op.\n"
     ]
    },
    {
     "name": "stderr",
     "output_type": "stream",
     "text": [
      "WARNING:tensorflow:Using a while_loop for converting StatelessRandomUniformV2 cause there is no registered converter for this op.\n"
     ]
    },
    {
     "name": "stdout",
     "output_type": "stream",
     "text": [
      "WARNING:tensorflow:Using a while_loop for converting ImageProjectiveTransformV3 cause there is no registered converter for this op.\n"
     ]
    },
    {
     "name": "stderr",
     "output_type": "stream",
     "text": [
      "WARNING:tensorflow:Using a while_loop for converting ImageProjectiveTransformV3 cause there is no registered converter for this op.\n"
     ]
    },
    {
     "name": "stdout",
     "output_type": "stream",
     "text": [
      "WARNING:tensorflow:Using a while_loop for converting RngReadAndSkip cause there is no registered converter for this op.\n"
     ]
    },
    {
     "name": "stderr",
     "output_type": "stream",
     "text": [
      "WARNING:tensorflow:Using a while_loop for converting RngReadAndSkip cause there is no registered converter for this op.\n"
     ]
    },
    {
     "name": "stdout",
     "output_type": "stream",
     "text": [
      "WARNING:tensorflow:Using a while_loop for converting Bitcast cause there is no registered converter for this op.\n"
     ]
    },
    {
     "name": "stderr",
     "output_type": "stream",
     "text": [
      "WARNING:tensorflow:Using a while_loop for converting Bitcast cause there is no registered converter for this op.\n"
     ]
    },
    {
     "name": "stdout",
     "output_type": "stream",
     "text": [
      "WARNING:tensorflow:Using a while_loop for converting Bitcast cause there is no registered converter for this op.\n"
     ]
    },
    {
     "name": "stderr",
     "output_type": "stream",
     "text": [
      "WARNING:tensorflow:Using a while_loop for converting Bitcast cause there is no registered converter for this op.\n"
     ]
    },
    {
     "name": "stdout",
     "output_type": "stream",
     "text": [
      "WARNING:tensorflow:Using a while_loop for converting StatelessRandomUniformV2 cause there is no registered converter for this op.\n"
     ]
    },
    {
     "name": "stderr",
     "output_type": "stream",
     "text": [
      "WARNING:tensorflow:Using a while_loop for converting StatelessRandomUniformV2 cause there is no registered converter for this op.\n"
     ]
    },
    {
     "name": "stdout",
     "output_type": "stream",
     "text": [
      "WARNING:tensorflow:Using a while_loop for converting ImageProjectiveTransformV3 cause there is no registered converter for this op.\n"
     ]
    },
    {
     "name": "stderr",
     "output_type": "stream",
     "text": [
      "WARNING:tensorflow:Using a while_loop for converting ImageProjectiveTransformV3 cause there is no registered converter for this op.\n"
     ]
    },
    {
     "name": "stdout",
     "output_type": "stream",
     "text": [
      "WARNING:tensorflow:Using a while_loop for converting RngReadAndSkip cause there is no registered converter for this op.\n"
     ]
    },
    {
     "name": "stderr",
     "output_type": "stream",
     "text": [
      "WARNING:tensorflow:Using a while_loop for converting RngReadAndSkip cause there is no registered converter for this op.\n"
     ]
    },
    {
     "name": "stdout",
     "output_type": "stream",
     "text": [
      "WARNING:tensorflow:Using a while_loop for converting Bitcast cause there is no registered converter for this op.\n"
     ]
    },
    {
     "name": "stderr",
     "output_type": "stream",
     "text": [
      "WARNING:tensorflow:Using a while_loop for converting Bitcast cause there is no registered converter for this op.\n"
     ]
    },
    {
     "name": "stdout",
     "output_type": "stream",
     "text": [
      "WARNING:tensorflow:Using a while_loop for converting Bitcast cause there is no registered converter for this op.\n"
     ]
    },
    {
     "name": "stderr",
     "output_type": "stream",
     "text": [
      "WARNING:tensorflow:Using a while_loop for converting Bitcast cause there is no registered converter for this op.\n"
     ]
    },
    {
     "name": "stdout",
     "output_type": "stream",
     "text": [
      "WARNING:tensorflow:Using a while_loop for converting StatelessRandomUniformV2 cause there is no registered converter for this op.\n"
     ]
    },
    {
     "name": "stderr",
     "output_type": "stream",
     "text": [
      "WARNING:tensorflow:Using a while_loop for converting StatelessRandomUniformV2 cause there is no registered converter for this op.\n"
     ]
    },
    {
     "name": "stdout",
     "output_type": "stream",
     "text": [
      "WARNING:tensorflow:Using a while_loop for converting ImageProjectiveTransformV3 cause there is no registered converter for this op.\n"
     ]
    },
    {
     "name": "stderr",
     "output_type": "stream",
     "text": [
      "WARNING:tensorflow:Using a while_loop for converting ImageProjectiveTransformV3 cause there is no registered converter for this op.\n"
     ]
    },
    {
     "name": "stdout",
     "output_type": "stream",
     "text": [
      "106/106 [==============================] - 107s 967ms/step - loss: 0.6384 - accuracy: 0.6250\n",
      "Epoch 2/35\n",
      "106/106 [==============================] - 103s 974ms/step - loss: 0.5025 - accuracy: 0.7532\n",
      "Epoch 3/35\n",
      "106/106 [==============================] - 104s 980ms/step - loss: 0.4506 - accuracy: 0.7869\n",
      "Epoch 4/35\n",
      "106/106 [==============================] - 103s 973ms/step - loss: 0.3959 - accuracy: 0.8183\n",
      "Epoch 5/35\n",
      "106/106 [==============================] - 103s 974ms/step - loss: 0.3536 - accuracy: 0.8461\n",
      "Epoch 6/35\n",
      "106/106 [==============================] - 103s 976ms/step - loss: 0.3200 - accuracy: 0.8553\n",
      "Epoch 7/35\n",
      "106/106 [==============================] - 103s 976ms/step - loss: 0.2786 - accuracy: 0.8763\n",
      "Epoch 8/35\n",
      "106/106 [==============================] - 104s 980ms/step - loss: 0.2460 - accuracy: 0.8979\n",
      "Epoch 9/35\n",
      "106/106 [==============================] - 103s 974ms/step - loss: 0.2457 - accuracy: 0.9000\n",
      "Epoch 10/35\n",
      "106/106 [==============================] - 103s 973ms/step - loss: 0.2291 - accuracy: 0.9056\n",
      "Epoch 11/35\n",
      "106/106 [==============================] - 104s 979ms/step - loss: 0.1973 - accuracy: 0.9263\n",
      "Epoch 12/35\n",
      "106/106 [==============================] - 104s 977ms/step - loss: 0.1862 - accuracy: 0.9293\n",
      "Epoch 13/35\n",
      "106/106 [==============================] - 103s 975ms/step - loss: 0.1767 - accuracy: 0.9325\n",
      "Epoch 14/35\n",
      "106/106 [==============================] - 103s 974ms/step - loss: 0.1595 - accuracy: 0.9349\n",
      "Epoch 15/35\n",
      "106/106 [==============================] - 103s 970ms/step - loss: 0.1476 - accuracy: 0.9458\n",
      "Epoch 16/35\n",
      "106/106 [==============================] - 103s 972ms/step - loss: 0.1300 - accuracy: 0.9515\n",
      "Epoch 17/35\n",
      "106/106 [==============================] - 103s 972ms/step - loss: 0.1320 - accuracy: 0.9526\n",
      "Epoch 18/35\n",
      "106/106 [==============================] - 103s 975ms/step - loss: 0.1283 - accuracy: 0.9544\n",
      "Epoch 19/35\n",
      "106/106 [==============================] - 104s 983ms/step - loss: 0.1107 - accuracy: 0.9568\n",
      "Epoch 20/35\n",
      "106/106 [==============================] - 104s 977ms/step - loss: 0.1077 - accuracy: 0.9598\n",
      "Epoch 21/35\n",
      "106/106 [==============================] - 104s 977ms/step - loss: 0.0871 - accuracy: 0.9692\n",
      "Epoch 22/35\n",
      "106/106 [==============================] - 103s 972ms/step - loss: 0.1113 - accuracy: 0.9571\n",
      "Epoch 23/35\n",
      "106/106 [==============================] - 103s 972ms/step - loss: 0.0687 - accuracy: 0.9769\n",
      "Epoch 24/35\n",
      "106/106 [==============================] - 103s 973ms/step - loss: 0.0757 - accuracy: 0.9722\n",
      "Epoch 25/35\n",
      "106/106 [==============================] - 103s 973ms/step - loss: 0.0704 - accuracy: 0.9745\n",
      "Epoch 26/35\n",
      "106/106 [==============================] - 103s 972ms/step - loss: 0.0724 - accuracy: 0.9754\n",
      "Epoch 27/35\n",
      "106/106 [==============================] - 103s 972ms/step - loss: 0.0684 - accuracy: 0.9743\n",
      "Epoch 28/35\n",
      "106/106 [==============================] - 104s 980ms/step - loss: 0.0819 - accuracy: 0.9713\n",
      "Epoch 29/35\n",
      "106/106 [==============================] - 103s 974ms/step - loss: 0.0570 - accuracy: 0.9793\n",
      "Epoch 30/35\n",
      "106/106 [==============================] - 104s 986ms/step - loss: 0.0677 - accuracy: 0.9784\n",
      "Epoch 31/35\n",
      "106/106 [==============================] - 125s 1s/step - loss: 0.0638 - accuracy: 0.9808\n",
      "Epoch 32/35\n",
      "106/106 [==============================] - 104s 985ms/step - loss: 0.0569 - accuracy: 0.9787\n",
      "Epoch 33/35\n",
      "106/106 [==============================] - 108s 1s/step - loss: 0.0594 - accuracy: 0.9802\n",
      "Epoch 34/35\n",
      "106/106 [==============================] - 103s 973ms/step - loss: 0.0670 - accuracy: 0.9760\n",
      "Epoch 35/35\n",
      "106/106 [==============================] - 105s 989ms/step - loss: 0.0665 - accuracy: 0.9751\n"
     ]
    },
    {
     "data": {
      "text/plain": [
       "<keras.callbacks.History at 0x1f0e8d34130>"
      ]
     },
     "execution_count": 52,
     "metadata": {},
     "output_type": "execute_result"
    }
   ],
   "source": [
    "num_classes = 2\n",
    "\n",
    "cnn2 = Sequential([\n",
    "  data_augmentation,\n",
    "  layers.Conv2D(32, 3, padding='same', activation='relu'),\n",
    "  layers.MaxPooling2D(),\n",
    "  layers.Dropout(0.1),\n",
    "  layers.Conv2D(32, 3, padding='same', activation='relu'),\n",
    "  layers.MaxPooling2D(),\n",
    "  layers.Dropout(0.15),\n",
    "  layers.Conv2D(64, 3, padding='same', activation='relu'),\n",
    "  layers.MaxPooling2D(),\n",
    "  layers.Conv2D(16, 3, padding='same', activation='relu'),\n",
    "  layers.MaxPooling2D(),\n",
    "  layers.Dropout(0.05),\n",
    "  layers.Flatten(),\n",
    "  layers.Dense(128, activation='relu'),\n",
    "  layers.Dropout(0.15),\n",
    "  layers.Dense(48, activation='relu'),\n",
    "  layers.Dense(num_classes)\n",
    "])\n",
    "\n",
    "cnn2.compile(optimizer='adam',\n",
    "              loss=tf.keras.losses.SparseCategoricalCrossentropy(from_logits=True),\n",
    "              metrics=['accuracy'])\n",
    "              \n",
    "cnn2.fit(X_train_scaled, y_train, epochs=35) "
   ]
  },
  {
   "cell_type": "code",
   "execution_count": 53,
   "id": "46da0d03",
   "metadata": {},
   "outputs": [
    {
     "name": "stdout",
     "output_type": "stream",
     "text": [
      "36/36 [==============================] - 7s 167ms/step - loss: 0.1249 - accuracy: 0.9681\n"
     ]
    },
    {
     "data": {
      "text/plain": [
       "[0.12494736164808273, 0.9680567979812622]"
      ]
     },
     "execution_count": 53,
     "metadata": {},
     "output_type": "execute_result"
    }
   ],
   "source": [
    "cnn2.evaluate(X_test_scaled,y_test)"
   ]
  },
  {
   "cell_type": "markdown",
   "id": "f0be40c1",
   "metadata": {},
   "source": [
    "### CNN with regularisation"
   ]
  },
  {
   "cell_type": "code",
   "execution_count": 54,
   "id": "59e11e3c",
   "metadata": {},
   "outputs": [
    {
     "name": "stdout",
     "output_type": "stream",
     "text": [
      "Epoch 1/12\n",
      "106/106 [==============================] - 202s 2s/step - loss: 0.5844 - accuracy: 0.6739\n",
      "Epoch 2/12\n",
      "106/106 [==============================] - 186s 2s/step - loss: 0.3671 - accuracy: 0.8426\n",
      "Epoch 3/12\n",
      "106/106 [==============================] - 192s 2s/step - loss: 0.2745 - accuracy: 0.8867\n",
      "Epoch 4/12\n",
      "106/106 [==============================] - 188s 2s/step - loss: 0.2037 - accuracy: 0.9236\n",
      "Epoch 5/12\n",
      "106/106 [==============================] - 186s 2s/step - loss: 0.1283 - accuracy: 0.9538\n",
      "Epoch 6/12\n",
      "106/106 [==============================] - 185s 2s/step - loss: 0.0941 - accuracy: 0.9672\n",
      "Epoch 7/12\n",
      "106/106 [==============================] - 186s 2s/step - loss: 0.0703 - accuracy: 0.9751\n",
      "Epoch 8/12\n",
      "106/106 [==============================] - 191s 2s/step - loss: 0.0538 - accuracy: 0.9817\n",
      "Epoch 9/12\n",
      "106/106 [==============================] - 189s 2s/step - loss: 0.0603 - accuracy: 0.9790\n",
      "Epoch 10/12\n",
      "106/106 [==============================] - 191s 2s/step - loss: 0.0369 - accuracy: 0.9891\n",
      "Epoch 11/12\n",
      "106/106 [==============================] - 187s 2s/step - loss: 0.0412 - accuracy: 0.9861\n",
      "Epoch 12/12\n",
      "106/106 [==============================] - 190s 2s/step - loss: 0.0331 - accuracy: 0.9891\n"
     ]
    },
    {
     "data": {
      "text/plain": [
       "<keras.callbacks.History at 0x1f2b4ade3d0>"
      ]
     },
     "execution_count": 54,
     "metadata": {},
     "output_type": "execute_result"
    }
   ],
   "source": [
    "num_classes = 2\n",
    "\n",
    "cnn3 = Sequential([\n",
    "  layers.Conv2D(48, 3, padding='same', activation='relu'),\n",
    "  layers.Dropout(0.05),\n",
    "  layers.MaxPooling2D(),\n",
    "  layers.Conv2D(64, 3, padding='same', activation='relu'),\n",
    "  layers.MaxPooling2D(),\n",
    "  layers.Conv2D(32, 3, padding='same', activation='relu'),\n",
    "  layers.MaxPooling2D(),\n",
    "  layers.Dropout(0.05),\n",
    "  layers.Conv2D(16, 3, padding='same', activation='relu'),\n",
    "  layers.Dropout(0.15),\n",
    "  layers.MaxPooling2D(),\n",
    "  layers.Flatten(),\n",
    "  layers.Dense(128, activation='relu'),\n",
    "  layers.Dropout(0.1),\n",
    "  layers.Dense(64, activation='relu'),\n",
    "  layers.Dropout(0.15),\n",
    "  layers.Dense(num_classes)\n",
    "])\n",
    "\n",
    "cnn3.compile(optimizer='adam',\n",
    "              loss=tf.keras.losses.SparseCategoricalCrossentropy(from_logits=True),\n",
    "              metrics=['accuracy'])\n",
    "              \n",
    "cnn3.fit(X_train_scaled, y_train, epochs=12)  "
   ]
  },
  {
   "cell_type": "code",
   "execution_count": 55,
   "id": "8ac4efc8",
   "metadata": {},
   "outputs": [
    {
     "name": "stdout",
     "output_type": "stream",
     "text": [
      "36/36 [==============================] - 12s 274ms/step - loss: 0.1479 - accuracy: 0.9654\n"
     ]
    },
    {
     "data": {
      "text/plain": [
       "[0.14792539179325104, 0.9653948545455933]"
      ]
     },
     "execution_count": 55,
     "metadata": {},
     "output_type": "execute_result"
    }
   ],
   "source": [
    "cnn3.evaluate(X_test_scaled,y_test)"
   ]
  },
  {
   "cell_type": "markdown",
   "id": "aa40b9ba",
   "metadata": {},
   "source": [
    "### Mobile net v2"
   ]
  },
  {
   "cell_type": "code",
   "execution_count": 56,
   "id": "da852ca3",
   "metadata": {},
   "outputs": [],
   "source": [
    "feature_extractor_model = \"https://tfhub.dev/google/tf2-preview/mobilenet_v2/feature_vector/4\"\n",
    "\n",
    "pretrained_model_without_top_layer = hub.KerasLayer(\n",
    "    feature_extractor_model, input_shape=(224, 224, 3), trainable=False)"
   ]
  },
  {
   "cell_type": "code",
   "execution_count": 57,
   "id": "9ebe37a2",
   "metadata": {},
   "outputs": [
    {
     "name": "stdout",
     "output_type": "stream",
     "text": [
      "Model: \"sequential_11\"\n",
      "_________________________________________________________________\n",
      " Layer (type)                Output Shape              Param #   \n",
      "=================================================================\n",
      " keras_layer_2 (KerasLayer)  (None, 1280)              2257984   \n",
      "                                                                 \n",
      " dense_30 (Dense)            (None, 2)                 2562      \n",
      "                                                                 \n",
      "=================================================================\n",
      "Total params: 2,260,546\n",
      "Trainable params: 2,562\n",
      "Non-trainable params: 2,257,984\n",
      "_________________________________________________________________\n"
     ]
    }
   ],
   "source": [
    "num_of_classes = 2\n",
    "\n",
    "mobilenet_v2_model = tf.keras.Sequential([\n",
    "  pretrained_model_without_top_layer,\n",
    "  tf.keras.layers.Dense(num_of_classes)\n",
    "])\n",
    "\n",
    "mobilenet_v2_model.summary()"
   ]
  },
  {
   "cell_type": "code",
   "execution_count": 58,
   "id": "3e5ea6f1",
   "metadata": {},
   "outputs": [
    {
     "name": "stdout",
     "output_type": "stream",
     "text": [
      "Epoch 1/25\n",
      "106/106 [==============================] - 68s 588ms/step - loss: 0.3847 - acc: 0.8292\n",
      "Epoch 2/25\n",
      "106/106 [==============================] - 62s 587ms/step - loss: 0.1990 - acc: 0.9396\n",
      "Epoch 3/25\n",
      "106/106 [==============================] - 61s 570ms/step - loss: 0.1634 - acc: 0.9521\n",
      "Epoch 4/25\n",
      "106/106 [==============================] - 60s 565ms/step - loss: 0.1363 - acc: 0.9574\n",
      "Epoch 5/25\n",
      "106/106 [==============================] - 59s 556ms/step - loss: 0.1186 - acc: 0.9669\n",
      "Epoch 6/25\n",
      "106/106 [==============================] - 60s 563ms/step - loss: 0.1074 - acc: 0.9689\n",
      "Epoch 7/25\n",
      "106/106 [==============================] - 61s 576ms/step - loss: 0.0981 - acc: 0.9695\n",
      "Epoch 8/25\n",
      "106/106 [==============================] - 60s 569ms/step - loss: 0.0892 - acc: 0.9734\n",
      "Epoch 9/25\n",
      "106/106 [==============================] - 60s 562ms/step - loss: 0.0813 - acc: 0.9781\n",
      "Epoch 10/25\n",
      "106/106 [==============================] - 62s 581ms/step - loss: 0.0761 - acc: 0.9784\n",
      "Epoch 11/25\n",
      "106/106 [==============================] - 58s 549ms/step - loss: 0.0721 - acc: 0.9805\n",
      "Epoch 12/25\n",
      "106/106 [==============================] - 58s 544ms/step - loss: 0.0660 - acc: 0.9811\n",
      "Epoch 13/25\n",
      "106/106 [==============================] - 58s 549ms/step - loss: 0.0668 - acc: 0.9802\n",
      "Epoch 14/25\n",
      "106/106 [==============================] - 58s 551ms/step - loss: 0.0576 - acc: 0.9849\n",
      "Epoch 15/25\n",
      "106/106 [==============================] - 58s 546ms/step - loss: 0.0547 - acc: 0.9855\n",
      "Epoch 16/25\n",
      "106/106 [==============================] - 59s 554ms/step - loss: 0.0524 - acc: 0.9876\n",
      "Epoch 17/25\n",
      "106/106 [==============================] - 57s 542ms/step - loss: 0.0479 - acc: 0.9905\n",
      "Epoch 18/25\n",
      "106/106 [==============================] - 58s 543ms/step - loss: 0.0452 - acc: 0.9908\n",
      "Epoch 19/25\n",
      "106/106 [==============================] - 58s 548ms/step - loss: 0.0450 - acc: 0.9896\n",
      "Epoch 20/25\n",
      "106/106 [==============================] - 58s 546ms/step - loss: 0.0412 - acc: 0.9929\n",
      "Epoch 21/25\n",
      "106/106 [==============================] - 58s 551ms/step - loss: 0.0391 - acc: 0.9929\n",
      "Epoch 22/25\n",
      "106/106 [==============================] - 60s 570ms/step - loss: 0.0372 - acc: 0.9938\n",
      "Epoch 23/25\n",
      "106/106 [==============================] - 60s 570ms/step - loss: 0.0350 - acc: 0.9959\n",
      "Epoch 24/25\n",
      "106/106 [==============================] - 61s 573ms/step - loss: 0.0333 - acc: 0.9950\n",
      "Epoch 25/25\n",
      "106/106 [==============================] - 61s 579ms/step - loss: 0.0327 - acc: 0.9962\n"
     ]
    },
    {
     "data": {
      "text/plain": [
       "<keras.callbacks.History at 0x1f2b8e26dc0>"
      ]
     },
     "execution_count": 58,
     "metadata": {},
     "output_type": "execute_result"
    }
   ],
   "source": [
    "mobilenet_v2_model.compile(\n",
    "  optimizer=\"adam\",\n",
    "  loss=tf.keras.losses.SparseCategoricalCrossentropy(from_logits=True),\n",
    "  metrics=['acc'])\n",
    "\n",
    "mobilenet_v2_model.fit(X_train_scaled, y_train, epochs=25)"
   ]
  },
  {
   "cell_type": "code",
   "execution_count": 59,
   "id": "644e7ec5",
   "metadata": {},
   "outputs": [
    {
     "name": "stdout",
     "output_type": "stream",
     "text": [
      "36/36 [==============================] - 31s 583ms/step - loss: 0.0803 - acc: 0.9787\n"
     ]
    },
    {
     "data": {
      "text/plain": [
       "[0.08031444996595383, 0.9787045121192932]"
      ]
     },
     "execution_count": 59,
     "metadata": {},
     "output_type": "execute_result"
    }
   ],
   "source": [
    "mobilenet_v2_model.evaluate(X_test_scaled,y_test)"
   ]
  },
  {
   "cell_type": "code",
   "execution_count": 60,
   "id": "d69cf91a",
   "metadata": {},
   "outputs": [
    {
     "name": "stdout",
     "output_type": "stream",
     "text": [
      "36/36 [==============================] - 23s 574ms/step\n"
     ]
    }
   ],
   "source": [
    "Y_pred = mobilenet_v2_model.predict(X_test_scaled)"
   ]
  },
  {
   "cell_type": "code",
   "execution_count": 61,
   "id": "18066d8c",
   "metadata": {},
   "outputs": [],
   "source": [
    "Y_pred_labels = [np.argmax(i) for i in Y_pred]"
   ]
  },
  {
   "cell_type": "code",
   "execution_count": 62,
   "id": "4e1ea885",
   "metadata": {},
   "outputs": [
    {
     "name": "stdout",
     "output_type": "stream",
     "text": [
      "              precision    recall  f1-score   support\n",
      "\n",
      "           0       0.99      0.98      0.98       607\n",
      "           1       0.97      0.98      0.98       520\n",
      "\n",
      "    accuracy                           0.98      1127\n",
      "   macro avg       0.98      0.98      0.98      1127\n",
      "weighted avg       0.98      0.98      0.98      1127\n",
      "\n"
     ]
    }
   ],
   "source": [
    "from sklearn.metrics import confusion_matrix , classification_report\n",
    "print(classification_report(y_test,Y_pred_labels))"
   ]
  },
  {
   "cell_type": "code",
   "execution_count": 63,
   "id": "ef26edfd",
   "metadata": {},
   "outputs": [
    {
     "data": {
      "text/plain": [
       "Text(69.0, 0.5, 'Truth')"
      ]
     },
     "execution_count": 63,
     "metadata": {},
     "output_type": "execute_result"
    },
    {
     "data": {
      "image/png": "[encoded data removed]",
      "text/plain": [
       "<Figure size 720x504 with 2 Axes>"
      ]
     },
     "metadata": {
      "needs_background": "light"
     },
     "output_type": "display_data"
    }
   ],
   "source": [
    "import seaborn as sns\n",
    "cm=confusion_matrix(y_test,Y_pred_labels)\n",
    "plt.figure(figsize = (10,7))\n",
    "sns.heatmap(cm, annot=True, fmt='d')\n",
    "plt.xlabel('Predicted')\n",
    "plt.ylabel('Truth')"
   ]
  },
  {
   "cell_type": "code",
   "execution_count": null,
   "id": "08263936",
   "metadata": {},
   "outputs": [],
   "source": []
  }
 ],
 "metadata": {
  "kernelspec": {
   "display_name": "Python 3 (ipykernel)",
   "language": "python",
   "name": "python3"
  },
  "language_info": {
   "codemirror_mode": {
    "name": "ipython",
    "version": 3
   },
   "file_extension": ".py",
   "mimetype": "text/x-python",
   "name": "python",
   "nbconvert_exporter": "python",
   "pygments_lexer": "ipython3",
   "version": "3.9.9"
  }
 },
 "nbformat": 4,
 "nbformat_minor": 5
}
